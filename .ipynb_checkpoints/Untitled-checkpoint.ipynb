{
 "cells": [
  {
   "cell_type": "code",
   "execution_count": 3,
   "metadata": {},
   "outputs": [],
   "source": [
    "import os,sys,glob,copy\n",
    "import pandas as pd\n",
    "from itertools import combinations,permutations,product\n",
    "import time,random\n",
    "from multiprocessing import Process\n",
    "import multiprocessing\n",
    "from queue import Queue"
   ]
  },
  {
   "cell_type": "code",
   "execution_count": 4,
   "metadata": {},
   "outputs": [],
   "source": [
    "def preprocess(file_s=\"./lic.csv\",file_in=\"./index.csv\"):\n",
    "    x = pd.read_csv(file_s)\n",
    "    x = x.fillna(\"\")\n",
    "    index_map = pd.read_csv(file_in)\n",
    "    map_name_to_index = {\n",
    "    \n",
    "    }\n",
    "    map_index_to_name={}\n",
    "    for index,i in  enumerate(zip(index_map['Name'].values,index_map['Index'].values)):\n",
    "        map_name_to_index[i[1]] = index\n",
    "        map_index_to_name[index] = i[1]\n",
    "    return x,index_map,map_name_to_index,map_index_to_name"
   ]
  },
  {
   "cell_type": "code",
   "execution_count": 5,
   "metadata": {},
   "outputs": [],
   "source": [
    "x,index_map,map_name_to_index,map_index_to_name = preprocess()"
   ]
  },
  {
   "cell_type": "code",
   "execution_count": null,
   "metadata": {},
   "outputs": [],
   "source": [
    "index_map = pd.read_csv(\"./index.csv\")\n"
   ]
  },
  {
   "cell_type": "code",
   "execution_count": null,
   "metadata": {},
   "outputs": [],
   "source": [
    "map_name_to_index = {\n",
    "    \n",
    "}\n",
    "map_index_to_name={}\n",
    "for index,i in  enumerate(zip(index_map['Name'].values,index_map['Index'].values)):\n",
    "    map_name_to_index[i[1]] = index\n",
    "    map_index_to_name[index] = i[1]"
   ]
  },
  {
   "cell_type": "code",
   "execution_count": 6,
   "metadata": {},
   "outputs": [],
   "source": [
    "Graph = [[1 for i in range(26)] for i in range(35)]\n",
    "#Graph[i][j] = hoc sinh j co the hoc ngay i\n",
    "for i in range(2,9):\n",
    "    index_day = f'T{i}' if i != 8 else 'CN'\n",
    "    for st,sc in enumerate(x[index_day].values):\n",
    "        sc_students = [map_name_to_index[i.strip()] for i in sc.split(\",\") if len(i.strip()) > 0] \n",
    "        for sc_student in sc_students:\n",
    "            Graph[(i-2) * 5 + st][sc_student] = 0\n"
   ]
  },
  {
   "cell_type": "code",
   "execution_count": 21,
   "metadata": {},
   "outputs": [],
   "source": [
    "def nice_print(i,postfix=\"\"):\n",
    "        i =min(int(round(i)),100)\n",
    "        str_format = \"\\r\" + \"=\" * i + \">\" +\" \"*(100-i) + f\" {i}%\" + postfix\n",
    "        return str_format"
   ]
  },
  {
   "cell_type": "code",
   "execution_count": 8,
   "metadata": {},
   "outputs": [],
   "source": [
    "# for index in Graph:print(index)"
   ]
  },
  {
   "cell_type": "code",
   "execution_count": 9,
   "metadata": {},
   "outputs": [],
   "source": [
    "class PrepareMinMaxFlow():\n",
    "    def __init__(self,name = 'min_max_cost_flow',\n",
    "                 num_sink=None,\n",
    "                 num_flow_to_sink = None,\n",
    "                 Graph = None,\n",
    "                 **kwargs):\n",
    "        self.__dict__.update(**kwargs)\n",
    "        self.name = name\n",
    "        assert num_sink is not None\n",
    "        assert num_flow_to_sink is not None\n",
    "        assert Graph is not None\n",
    "        self.num_sink = num_sink\n",
    "        self.num_flow_to_sink = num_flow_to_sink\n",
    "        self.num_source = len(Graph[0] if len(Graph) else 0)\n",
    "        self.anotation = {\n",
    "            'graph':copy.deepcopy (Graph)\n",
    "        }\n",
    "        st = time.time()\n",
    "        if not hasattr(self,'limit_combinations'): self.limit_combinations = -1\n",
    "        self.prepare_sink()\n",
    "        \n",
    "        if hasattr(self,'multi_gpu'):self.prepare_combinations_mp()\n",
    "        else:\n",
    "            self.prepare_combinations_no_mp()\n",
    "        end  = time.time()\n",
    "        print(\"\\nprepare done total time = {:.2f}s\\n\".format(end-st))\n",
    "    def __str__(self):return self.name\n",
    "    \n",
    "    @staticmethod\n",
    "    def gen(all_combination):\n",
    "        first_two_combination = combinations(all_combination,2)\n",
    "        all_xx = []\n",
    "        for i in list(first_two_combination):\n",
    "            current = set(all_combination) - set(i)\n",
    "            new_z =list( combinations( current, 2))\n",
    "            all_xx = all_xx + [i + j + tuple(current - set(j)) for j in new_z]\n",
    "        return all_xx\n",
    "    \n",
    "    \n",
    "    def prepare_sink(self):\n",
    "        if hasattr(self,'require_sink'):\n",
    "            require_sink = getattr(self,'require_sink')\n",
    "        else:\n",
    "            require_sink = lambda x: True\n",
    "        sink = [i for i in range(len(self.anotation['graph']))\\\n",
    "                if require_sink(self.anotation['graph'][i])]\n",
    "        self.sink = sink\n",
    "        self.num_sink_valid = len(sink)\n",
    "        \n",
    "        self.cans_combine_sink = [[1 for i in range(len(self.anotation['graph']))] \\\n",
    "                                  for i in range(len(self.anotation['graph']))]\n",
    "        for i in range(len(self.anotation['graph'])):\n",
    "            for j in range(i, len(self.anotation['graph']) ):\n",
    "                x=[1  \\\n",
    "                       for i in zip(self.anotation['graph'][i],self.anotation['graph'][j])\\\n",
    "                      if (i[0]==i[1] and i[0] ==1)]\n",
    "                if require_sink(x):\n",
    "                    self.cans_combine_sink[i][j] = self.cans_combine_sink[j][i] = 1\n",
    "                else:\n",
    "                    self.cans_combine_sink[i][j] = self.cans_combine_sink[j][i] = 0\n",
    "        \n",
    "        combination = list(combinations(sink, self.num_sink * self.num_flow_to_sink))\n",
    "        if hasattr(self,'shuffle_sink'):\n",
    "            random.shuffle(combination)\n",
    "        self.anotation['combinations'] = combination[:self.limit_combinations]\n",
    "        \n",
    "    def prepare_combinations_mp(self):\n",
    "        num_process=  3\n",
    "        combination =self.anotation.pop(\"combinations\",[])\n",
    "#         deep_combination = []\n",
    "        total = len(combination) // 3\n",
    "        map_process = []\n",
    "        for i in range(2):\n",
    "            map_process.append((i * total,i * total +total))\n",
    "        map_process.append((2 * total,len(combination)))\n",
    "        process_list = []\n",
    "        manager = multiprocessing.Manager()\n",
    "        final_list = manager.list()\n",
    "        def run_operation(st,end):\n",
    "            for com in combination[st:end]:\n",
    "                com_split = PrepareMinMaxFlow.gen(com)\n",
    "                for item in com_split:\n",
    "                    for i in range(0, self.num_sink * self.num_flow_to_sink,2):\n",
    "                        if self.cans_combine_sink[item[i]][item[i+1]] == 0:\n",
    "                            break\n",
    "                    else:\n",
    "                        final_list.append(item)\n",
    "\n",
    "        for _ in range(num_process):\n",
    "            p = Process(target=run_operation, args=(map_process[_][0],map_process[_][1]))\n",
    "            p.start()\n",
    "            process_list.append(p)\n",
    "\n",
    "        for _ in range(len(process_list)):\n",
    "            p = process_list[_]\n",
    "            p.join()\n",
    "        self.anotation['combinations'] = list(final_list)\n",
    "        \n",
    "    def prepare_combinations_no_mp(self): #10 ^ 7\n",
    "        combination =self.anotation.pop(\"combinations\",[])\n",
    "        deep_combination = []\n",
    "        total = len(combination) \n",
    "        iter_done = 0\n",
    "        for com in combination:\n",
    "            com_split = PrepareMinMaxFlow.gen(com)\n",
    "            for item in com_split:\n",
    "                for i in range(0, self.num_sink * self.num_flow_to_sink,2):\n",
    "                    if self.cans_combine_sink[item[i]][item[i+1]] == 0:\n",
    "                        break\n",
    "                else:\n",
    "                    deep_combination.append(item)\n",
    "            iter_done += 1\n",
    "            if iter_done % 100 ==0:\n",
    "                print(nice_print(iter_done * 100 / total),end=\"\\r\",sep=\"\\r\")    \n",
    "        self.anotation['combinations'] = deep_combination"
   ]
  },
  {
   "cell_type": "code",
   "execution_count": 10,
   "metadata": {},
   "outputs": [
    {
     "name": "stdout",
     "output_type": "stream",
     "text": [
      "====================================================================================================> 100%\n",
      "prepare done total time = 29.99s\n",
      "\n"
     ]
    }
   ],
   "source": [
    "p = PrepareMinMaxFlow(num_sink=3, num_flow_to_sink=2, Graph=Graph,shuffle_sink=True,\n",
    "                      require_sink = lambda x:True if sum(x) >= 8 else False,\n",
    "                      limit_combinations=200000)"
   ]
  },
  {
   "cell_type": "code",
   "execution_count": null,
   "metadata": {},
   "outputs": [],
   "source": [
    "len(p.anotation['combinations']),p.anotation['combinations'][0]"
   ]
  },
  {
   "cell_type": "code",
   "execution_count": 11,
   "metadata": {},
   "outputs": [],
   "source": [
    "class MinMaxFlow(object):\n",
    "    max_off = 50\n",
    "    def __init__(self, Graph,sink):\n",
    "        self.Graph = copy.deepcopy(Graph)\n",
    "       \n",
    "        self.offset=10\n",
    "        self.s=MinMaxFlow.max_off-2\n",
    "        self.t=MinMaxFlow.max_off-1\n",
    "        \n",
    "        self.f = -1\n",
    "        self.p = [-1 for i in range(MinMaxFlow.max_off)]\n",
    "    \n",
    "    def setup(self,sink):\n",
    "        self.sink = copy.deepcopy(sink)\n",
    "        self.annotation = {\n",
    "            'reduce_path':[[0 for i in range(MinMaxFlow.max_off)] for i in range(MinMaxFlow.max_off)],\n",
    "        }\n",
    "        self.annotation['graph']= self.prepare_graph()\n",
    "    def prepare_graph(self):\n",
    "        G = [[] for i in range(MinMaxFlow.max_off)]\n",
    "        for i in range(0,6,2):\n",
    "            d1,d2 = self.sink[i],self.sink[i+1]\n",
    "            G[i//2].append(self.t)\n",
    "            G[self.t].append(i//2)\n",
    "            self.annotation['reduce_path'][i//2][self.t] = 9 # max\n",
    "            for index,ix in enumerate(zip(self.Graph[d1],self.Graph[d2])):\n",
    "                if ix[0] == ix[1] == 1:\n",
    "                    G[i//2].append(self.offset + index)\n",
    "                    G[self.offset + index].append(i//2)\n",
    "                    \n",
    "                    self.annotation['reduce_path'][self.offset + index][i//2] = 1\n",
    "        self.all_cost = 0    \n",
    "        for index in range(len(self.Graph[0])):\n",
    "            G[self.s].append(index + self.offset)\n",
    "            G[index + self.offset].append(self.s)\n",
    "            self.annotation['reduce_path'][self.s][index + self.offset] = 1\n",
    "            self.all_cost += 1\n",
    "    \n",
    "        return G       \n",
    "    def flow(self,v,cur):\n",
    "        if(v==self.s):\n",
    "            self.f = cur\n",
    "            return\n",
    "        if(self.p[v]!=-1):\n",
    "#             print(p,v)\n",
    "            h = self.annotation['reduce_path'][self.p[v]][v]\n",
    "            self.flow(self.p[v], min(cur,h))\n",
    "            \n",
    "            self.annotation['reduce_path'][self.p[v]][v] -= self.f\n",
    "            self.annotation['reduce_path'][v][self.p[v]] += self.f\n",
    "            \n",
    "    def run_step(self):\n",
    "        mf = 0\n",
    "        while True:\n",
    "            queue =Queue()\n",
    "            queue.put(self.s)\n",
    "            dfs = [0 for i in range(MinMaxFlow.max_off)]\n",
    "            self.p = [-1 for i in range(MinMaxFlow.max_off)]\n",
    "            dfs[self.s]=1\n",
    "            while queue.empty() == False:\n",
    "                top = queue.get()\n",
    "                if top==self.t:break\n",
    "                \n",
    "                for z in self.annotation['graph'][top]:\n",
    "                    if dfs[z] == 0 and self.annotation['reduce_path'][top][z]:\n",
    "                        queue.put(z)\n",
    "                        dfs[z]=1\n",
    "                        self.p[z] = top\n",
    "            \n",
    "            self.f=0\n",
    "            self.flow(self.t,1000000)\n",
    "            mf += self.f\n",
    "            if self.f==0:break\n",
    "        \n",
    "        if mf==self.all_cost:\n",
    "            print(f'oki {mf}')\n",
    "        else:print(mf)\n",
    "    \n",
    "    def reduce_path_graph(self,map_name = lambda x:x):\n",
    "        str_ans = \"T {} kip {} | T {} kip {}\"\n",
    "        reduce_day = lambda x: x // 5 + 2 if x  // 5 + 2<=7 else 'CN'\n",
    "        reduce_kip = lambda x: x % 5 + 1\n",
    "        ans = {} \n",
    "        for index_k in range(3):\n",
    "            str_ans_cur = str_ans.format(reduce_day(self.sink[index_k * 2]), reduce_kip(self.sink[index_k*2]),\n",
    "                                        reduce_day(self.sink[index_k * 2 + 1]),\n",
    "                                         reduce_kip(self.sink[index_k * 2+1]))\n",
    "            ans[str_ans_cur]  = \"\"\n",
    "            for index in range(len(self.Graph[0])):\n",
    "                if self.annotation['reduce_path'][index_k][index+self.offset] == 1:\n",
    "                    print(map_name(index),end=\" \")\n",
    "                    ans[str_ans_cur] += \" \" + map_name(index) \n",
    "            print(\"\")\n",
    "\n",
    "        return ans"
   ]
  },
  {
   "cell_type": "code",
   "execution_count": 17,
   "metadata": {},
   "outputs": [],
   "source": [
    "total = len(p.anotation['combinations'])\n",
    "for item in p.anotation['combinations']:\n",
    "    iter_ += 1\n",
    "    if max(item[i*2],item[i*2+1]) - min(item[i*2],item[i*2+1]) <= 8:\n",
    "        continue\n",
    "    xz=MinMaxFlow(p.anotation['graph'],item)\n",
    "    if iter_ % 1000==0:\n",
    "        print(nice_print(iter_ * 100 /total,postfix=\"\"))\n"
   ]
  },
  {
   "cell_type": "code",
   "execution_count": 18,
   "metadata": {},
   "outputs": [
    {
     "data": {
      "text/plain": [
       "0"
      ]
     },
     "execution_count": 18,
     "metadata": {},
     "output_type": "execute_result"
    }
   ],
   "source": [
    "xz.annotation['reduce_path'][0][1]"
   ]
  },
  {
   "cell_type": "code",
   "execution_count": 19,
   "metadata": {},
   "outputs": [],
   "source": [
    "# xz.annotation['reduce_path'][-3:]"
   ]
  },
  {
   "cell_type": "code",
   "execution_count": 20,
   "metadata": {},
   "outputs": [
    {
     "name": "stdout",
     "output_type": "stream",
     "text": [
      "21\n"
     ]
    }
   ],
   "source": [
    "xz.run_step()"
   ]
  },
  {
   "cell_type": "code",
   "execution_count": null,
   "metadata": {},
   "outputs": [],
   "source": [
    "ans=xz.reduce_path_graph(map_name=lambda x:map_index_to_name[x])"
   ]
  },
  {
   "cell_type": "code",
   "execution_count": null,
   "metadata": {},
   "outputs": [],
   "source": [
    "ans"
   ]
  },
  {
   "cell_type": "code",
   "execution_count": null,
   "metadata": {},
   "outputs": [],
   "source": [
    "# index_map['Index'] == 2"
   ]
  },
  {
   "cell_type": "code",
   "execution_count": null,
   "metadata": {},
   "outputs": [],
   "source": [
    "# map_name_to_index"
   ]
  },
  {
   "cell_type": "code",
   "execution_count": null,
   "metadata": {},
   "outputs": [],
   "source": [
    "x\n"
   ]
  },
  {
   "cell_type": "code",
   "execution_count": null,
   "metadata": {},
   "outputs": [],
   "source": []
  }
 ],
 "metadata": {
  "kernelspec": {
   "display_name": "Python 3",
   "language": "python",
   "name": "python3"
  },
  "language_info": {
   "codemirror_mode": {
    "name": "ipython",
    "version": 3
   },
   "file_extension": ".py",
   "mimetype": "text/x-python",
   "name": "python",
   "nbconvert_exporter": "python",
   "pygments_lexer": "ipython3",
   "version": "3.8.2"
  }
 },
 "nbformat": 4,
 "nbformat_minor": 4
}
